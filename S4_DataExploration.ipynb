{
 "cells": [
  {
   "cell_type": "markdown",
   "metadata": {
    "cell_id": "aa9f8385f69e404c890827717d3c6c3e",
    "deepnote_cell_type": "markdown"
   },
   "source": [
    "# Data Exploration"
   ]
  },
  {
   "cell_type": "markdown",
   "metadata": {
    "cell_id": "cb4e563906b04cc4a056318b677a89ba",
    "deepnote_cell_type": "markdown"
   },
   "source": [
    "The dataset we will be using in this activity is from the ProPublica analysis of the COMPAS system.\n",
    "\n",
    "Data & original analysis gathered by ProPublica.\n",
    "Original Data methodology article:\n",
    "https://www.propublica.org/article/how-we-analyzed-the-compas-recidivism-algorithm\n",
    "\n",
    "Original Article:\n",
    "https://www.propublica.org/article/machine-bias-risk-assessments-in-criminal-sentencing\n",
    "\n",
    "Original data from ProPublica:\n",
    "https://github.com/propublica/compas-analysis"
   ]
  },
  {
   "cell_type": "code",
   "execution_count": null,
   "metadata": {
    "cell_id": "1a885ae8b47d4b3e9e313c4f8a0fbef7",
    "deepnote_cell_type": "code",
    "deepnote_to_be_reexecuted": false,
    "execution_millis": 1579,
    "execution_start": 1663074562081,
    "source_hash": "81f6f169"
   },
   "outputs": [],
   "source": [
    "# Render our plots inline\n",
    "%matplotlib inline\n",
    "\n",
    "import pandas as pd\n",
    "import matplotlib.pyplot as plt\n",
    "import numpy as np\n",
    "\n",
    "# Make the graphs a bit prettier, and bigger\n",
    "plt.style.use('ggplot')\n",
    "plt.rcParams['figure.figsize'] = (15, 5)"
   ]
  },
  {
   "cell_type": "code",
   "execution_count": null,
   "metadata": {
    "cell_id": "219241cd5e454256be3df0362891e4d7",
    "deepnote_cell_type": "code",
    "deepnote_to_be_reexecuted": false,
    "execution_millis": 345,
    "execution_start": 1663074567999,
    "source_hash": "295aae67"
   },
   "outputs": [],
   "source": [
    "# read the datafile\n",
    "crime_df = pd.read_csv('pb_compass.csv')\n",
    "crime_df"
   ]
  },
  {
   "cell_type": "code",
   "execution_count": null,
   "metadata": {
    "cell_id": "577860c09fe54064970701cabacc05bd",
    "deepnote_cell_type": "code",
    "deepnote_to_be_reexecuted": false,
    "execution_millis": 90,
    "execution_start": 1663074580110,
    "source_hash": "a479a2cc"
   },
   "outputs": [],
   "source": [
    "crime_df.info()"
   ]
  },
  {
   "cell_type": "markdown",
   "metadata": {
    "cell_id": "e972c2e7a75e49cebba247d85a186ff6",
    "deepnote_cell_type": "markdown"
   },
   "source": [
    "## Data cleanup"
   ]
  },
  {
   "cell_type": "markdown",
   "metadata": {
    "cell_id": "cefdcc0704f4455482a60b3831e894bc",
    "deepnote_cell_type": "markdown"
   },
   "source": [
    "From this information we can already see that some features won't be relevant in our exploratory analysis as there are too much missing values (such as violent_recid and r_jail_in). Plus there is so much features to analyze that it may be better to concentrate on the ones which can give us real insights. Let's just remove Id and the features with 30% or more missing values."
   ]
  },
  {
   "cell_type": "code",
   "execution_count": null,
   "metadata": {
    "cell_id": "d4a0f58990da4cf6bc3a068639a1490e",
    "deepnote_cell_type": "code"
   },
   "outputs": [],
   "source": [
    "crime_df2 = crime_df[[column for column in crime_df if crime_df[column].count() / len(crime_df) >= 0.3]]\n",
    "# drop the id column\n",
    "del crime_df2['id'] # another way to delete a column -> crime_df = crime_df.drop('id', 1)\n",
    "\n",
    "# find which columns got dropped by comparing the dataframe to the original\n",
    "print(\"List of dropped columns:\", end=\" \")\n",
    "\n",
    "for c in crime_df.columns:\n",
    "    if c not in crime_df2.columns:\n",
    "        print(c, end=\", \")\n",
    "print('\\n')\n",
    "\n",
    "# use the cleaned up dataframe moving forward\n",
    "crime_df = crime_df2"
   ]
  },
  {
   "cell_type": "code",
   "execution_count": null,
   "metadata": {
    "cell_id": "eddcf3060d15489b8f37ec2cf4eb57f4",
    "deepnote_cell_type": "code"
   },
   "outputs": [],
   "source": [
    "# preview the data\n",
    "crime_df.describe()"
   ]
  },
  {
   "cell_type": "markdown",
   "metadata": {
    "cell_id": "119fc597a8c742d7808caba142065210",
    "deepnote_cell_type": "markdown"
   },
   "source": [
    "From the data preview we can also see that the first two entries are exactly the same. This might indicate that there are more duplicates. If you explore the data further you will notice that there are many duplicates so let's remove those"
   ]
  },
  {
   "cell_type": "code",
   "execution_count": null,
   "metadata": {
    "cell_id": "712097ec9b2b42aa92d54db9020a4ea9",
    "deepnote_cell_type": "code"
   },
   "outputs": [],
   "source": [
    "# drop duplicate rows and keeping the first occurance\n",
    "crime_df.drop_duplicates(keep = 'first')"
   ]
  },
  {
   "cell_type": "markdown",
   "metadata": {
    "cell_id": "7cdfc4f4e6464995b0831f56a6f90755",
    "deepnote_cell_type": "markdown"
   },
   "source": [
    "### To Do #1: Explore the dataset more and remove any columns that are duplicated."
   ]
  },
  {
   "cell_type": "markdown",
   "metadata": {
    "cell_id": "6c4d86fc57a340d0b3b4d7a61c3e5eda",
    "deepnote_cell_type": "code"
   },
   "source": [
    "Refer to Panda's DataFrame documentation for a list of functions that will help with this task.\n",
    "\n",
    "https://pandas.pydata.org/docs/reference/frame.html\n",
    "\n",
    "Hint: Look at duplicated and transpose."
   ]
  },
  {
   "cell_type": "code",
   "execution_count": null,
   "metadata": {},
   "outputs": [],
   "source": []
  },
  {
   "cell_type": "markdown",
   "metadata": {
    "cell_id": "dac4c597b7d14bb3bf0a4181a6318be6",
    "deepnote_cell_type": "markdown"
   },
   "source": [
    "## Histograms and Overlays"
   ]
  },
  {
   "cell_type": "markdown",
   "metadata": {
    "cell_id": "e9c44c7a78864937909f64cf25803126",
    "deepnote_cell_type": "markdown"
   },
   "source": [
    "Now let us create some overlays to help us better understand our data."
   ]
  },
  {
   "cell_type": "markdown",
   "metadata": {
    "cell_id": "25337399cde54ffd94ab5a08d5fa8520",
    "deepnote_cell_type": "markdown"
   },
   "source": [
    "What if wanted to see how age and sex relate to how the COMPASS system scored these individual likelihood of recidivism "
   ]
  },
  {
   "cell_type": "code",
   "execution_count": null,
   "metadata": {
    "cell_id": "ce43f2aa0f2d474ba20131fd91c8c140",
    "deepnote_cell_type": "code"
   },
   "outputs": [],
   "source": [
    "crime_df[crime_df.sex == \"Male\"].groupby(['score_text','race'])['priors_count'].mean().unstack().plot(kind='bar')\n"
   ]
  },
  {
   "cell_type": "markdown",
   "metadata": {
    "cell_id": "0730dd3013b24193a6b4e7e40cc8a77e",
    "deepnote_cell_type": "markdown"
   },
   "source": [
    "### To Do #2: Was there anything that surprised you from this graph?"
   ]
  },
  {
   "cell_type": "code",
   "execution_count": null,
   "metadata": {
    "cell_id": "a272d9ac54d643778e44d7261db77e2d",
    "deepnote_cell_type": "code"
   },
   "outputs": [],
   "source": []
  },
  {
   "cell_type": "markdown",
   "metadata": {
    "cell_id": "645b706aacf24f36b597ecb07cee66c5",
    "deepnote_cell_type": "markdown"
   },
   "source": [
    "Now let us explore how age and sex attributes look like in our dataset"
   ]
  },
  {
   "cell_type": "code",
   "execution_count": null,
   "metadata": {
    "cell_id": "05393f3f40904fdcb61e5498df334592",
    "deepnote_cell_type": "code"
   },
   "outputs": [],
   "source": [
    "age_m = crime_df[crime_df.sex == \"Male\"]['age']\n",
    "age_w = crime_df[crime_df.sex == \"Female\"]['age']\n",
    "\n",
    "plt.hist([age_m, age_w], stacked = False) # the attribute stacked = False will display the two variables (age_m, age_w) side by side\n",
    "plt.legend(['Sex = Male', 'Sex = Female']) # specify the values of the legend\n",
    "plt.title('Histogram of Age with Sex Overlay') # specify the values of the title\n",
    "plt.xlabel('Age'); plt.ylabel('Frequency'); plt.show()  # specify the values of the x‐axis label, and y‐axis label and display the figure.\n"
   ]
  },
  {
   "cell_type": "code",
   "execution_count": null,
   "metadata": {},
   "outputs": [],
   "source": [
    "\n"
   ]
  },
  {
   "cell_type": "markdown",
   "metadata": {
    "cell_id": "5ae980738ac941cba0557350c1b32b0e",
    "deepnote_cell_type": "markdown",
    "tags": []
   },
   "source": [
    "Next we want to create a normalized histogram of age with sex overlay\n",
    "create a stacked histogram and save the information generated by the histogram."
   ]
  },
  {
   "cell_type": "code",
   "execution_count": null,
   "metadata": {
    "cell_id": "065dcd81a8ad4d3aa075d6dd12014154",
    "deepnote_cell_type": "code",
    "tags": []
   },
   "outputs": [],
   "source": [
    "(n, bins, patches) = plt.hist([age_m, age_w], bins = 10, stacked = False)\n",
    "# n is the height of the histogram bars and bins are the boundaries of each bin in the histogram\n",
    "# patches is the individual patches used to create the histogram, e.g a collection of rectangles\n",
    "plt.setp(patches[0], 'facecolor', 'green') # set the color property for one of the rectangles"
   ]
  },
  {
   "cell_type": "code",
   "execution_count": null,
   "metadata": {
    "cell_id": "618c505542564b919253817e31624f49",
    "deepnote_cell_type": "code"
   },
   "outputs": [],
   "source": [
    "n_table = np.column_stack((n[0], n[1])) # combine the heights of the two variables’ bars into one array using the column_stack() command\n",
    "n_norm = n_table / n_table.sum(axis=1)[:, None] #  calculate what proportion of the bar is accounted for by each variable by dividing each row by the sum across that row\n",
    "ourbins = np.column_stack((bins[0:10], bins[1:11])) #create an array whose rows are the exact cuts of each bin\n",
    "# Each row in ourbins gives the upper and lower bounds of each bin"
   ]
  },
  {
   "cell_type": "code",
   "execution_count": null,
   "metadata": {
    "cell_id": "2a08cd068a2a4ec99435d17ff5a4d099",
    "deepnote_cell_type": "code"
   },
   "outputs": [],
   "source": [
    "# using the bar() function the x attribute specifies the upper and lower bounds of the bins \n",
    "# the height attribute uses the normalized count values we created previously to specify the height of each of the two sections of each bar \n",
    "# and the width input reuses the bar widths from the original bar chart\n",
    "p1 = plt.bar(x = ourbins[:,0], height = n_norm[:,0],\n",
    "width = ourbins[:, 1] - ourbins[:, 0])\n",
    "\n",
    "# setting the bottom attribute to n_norm[:,0]specifies the second of the two bar sections to start on top of the first. \n",
    "p2 = plt.bar(x = ourbins[:,0], height = n_norm[:,1],\n",
    "width = ourbins[:, 1] - ourbins[:, 0],\n",
    "bottom = n_norm[:,0])\n",
    "# set the legend, title, xlabel, ylabel and show the figure\n",
    "plt.legend(['Sex = Male', 'Sex = Female'])\n",
    "plt.title('Histogram of Age with Sex Overlay')\n",
    "plt.xlabel('Age'); plt.ylabel('Proportion'); plt.show()"
   ]
  },
  {
   "cell_type": "markdown",
   "metadata": {
    "cell_id": "eaebecec196745f9a2f682a132371537",
    "deepnote_cell_type": "markdown"
   },
   "source": [
    "### To Do #3: Create a normalized histogram with the sex and number of prior convictions (priors_count)."
   ]
  },
  {
   "cell_type": "code",
   "execution_count": null,
   "metadata": {
    "cell_id": "be91c03476784d3fbf299bc1048255a2",
    "deepnote_cell_type": "code"
   },
   "outputs": [],
   "source": []
  },
  {
   "cell_type": "markdown",
   "metadata": {
    "cell_id": "231ec5bac4ce4a69b60720931f393aa8",
    "deepnote_cell_type": "markdown"
   },
   "source": [
    "## Correlations "
   ]
  },
  {
   "cell_type": "markdown",
   "metadata": {
    "cell_id": "882687f348554c89b2a621a40e7cbcd6",
    "deepnote_cell_type": "markdown"
   },
   "source": [
    "Correlation is a way to determine if two variables in a dataset are related in any way. Correlations have many real-world applications. We can see if using certain search terms are correlated to views on youtube. Or, we can see if ads are correlated to sales. When building machine learning models correlations are an important factor in determining features. Not only can this help us to see which features are linear related, but if features are strongly correlated we can remove them to prevent duplicating information.\n",
    "\n",
    "Before we try and calculate correlations between attributes in our dataset we should get a sense of the data types of the attributes we have\n",
    "\n",
    "Note: Transposing a DataFrame with mixed dtypes will result in a homogeneous DataFrame with the object dtype. If Transpose was used in an earlier step we can use the nfer_objects function where Pandas attempts infers better dtypes for object columns.\n",
    "See https://pandas.pydata.org/docs/reference/api/pandas.DataFrame.infer_objects.html for more details."
   ]
  },
  {
   "cell_type": "code",
   "execution_count": null,
   "metadata": {
    "cell_id": "e4fb884c361f4aba9e5e6c43993ecc62",
    "deepnote_cell_type": "code"
   },
   "outputs": [],
   "source": [
    "# crime_df = crime_df.infer_objects() # uncomment if the next statement results in [dtype('O')]\n",
    "list(set(crime_df.dtypes.tolist())) # should see [dtype('O'), dtype('int64'), dtype('float64')]"
   ]
  },
  {
   "cell_type": "markdown",
   "metadata": {
    "cell_id": "7813bf4d67534ebb9e6a62c5f385a3e9",
    "deepnote_cell_type": "markdown"
   },
   "source": [
    "We can see here that we have integers, floats and objects.\n",
    "With this information we can perform further analysis by selecting the columns that have number type data"
   ]
  },
  {
   "cell_type": "code",
   "execution_count": null,
   "metadata": {
    "cell_id": "fd811262a9d34925aa271754504caf27",
    "deepnote_cell_type": "code"
   },
   "outputs": [],
   "source": [
    "df_num = crime_df.select_dtypes(include = ['float64', 'int64'])\n",
    "df_num.head()"
   ]
  },
  {
   "cell_type": "markdown",
   "metadata": {
    "cell_id": "3a9293deca524a4f90e73c479b51bce4",
    "deepnote_cell_type": "markdown"
   },
   "source": [
    "Plotting a histogram of these columns can give us a sense of their distributions "
   ]
  },
  {
   "cell_type": "code",
   "execution_count": null,
   "metadata": {
    "cell_id": "c1770e24ccb145dd94fff3c6caf5a7a5",
    "deepnote_cell_type": "code"
   },
   "outputs": [],
   "source": [
    "df_num.hist(figsize=(16, 20), xlabelsize=8, ylabelsize=8); \n"
   ]
  },
  {
   "cell_type": "code",
   "execution_count": null,
   "metadata": {
    "cell_id": "35aa11dd2f7c4f3ca29cf8680736111d",
    "deepnote_cell_type": "code"
   },
   "outputs": [],
   "source": [
    "df_num_corr = df_num.corr()['priors_count']\n",
    "golden_features_list = df_num_corr.sort_values(ascending=False)\n",
    "print(\"We calcuated {} values with the count of prior convictions:\\n{}\".format(len(golden_features_list), golden_features_list))"
   ]
  },
  {
   "cell_type": "markdown",
   "metadata": {
    "cell_id": "149c1bd304fe49b4a96b41cba3eb8efe",
    "deepnote_cell_type": "markdown"
   },
   "source": [
    "### To Do #4: Calculate the correlations between the other numerical attributes and determine if any attributes can be considered redundant."
   ]
  },
  {
   "cell_type": "code",
   "execution_count": null,
   "metadata": {
    "cell_id": "4113724cd6e84eacaad6932eac2af7ed",
    "deepnote_cell_type": "code"
   },
   "outputs": [],
   "source": []
  },
  {
   "cell_type": "code",
   "execution_count": null,
   "metadata": {
    "cell_id": "8cee33503152403d90261bb2efa8db50",
    "deepnote_cell_type": "code"
   },
   "outputs": [],
   "source": []
  }
 ],
 "metadata": {
  "deepnote": {},
  "deepnote_execution_queue": [],
  "deepnote_notebook_id": "667f9decfb6d40969344bfe4ad3ac4b7",
  "kernelspec": {
   "display_name": "Python 3 (ipykernel)",
   "language": "python",
   "name": "python3"
  },
  "language_info": {
   "codemirror_mode": {
    "name": "ipython",
    "version": 3
   },
   "file_extension": ".py",
   "mimetype": "text/x-python",
   "name": "python",
   "nbconvert_exporter": "python",
   "pygments_lexer": "ipython3",
   "version": "3.9.13"
  }
 },
 "nbformat": 4,
 "nbformat_minor": 4
}
